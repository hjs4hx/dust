{
 "cells": [
  {
   "cell_type": "markdown",
   "metadata": {},
   "source": [
    "# Make Images for Gifs"
   ]
  },
  {
   "cell_type": "markdown",
   "metadata": {},
   "source": [
    "Please note: this script requires specific manual inputs and is not intended to be general."
   ]
  },
  {
   "cell_type": "markdown",
   "metadata": {},
   "source": [
    "This code reads in fits files, and creates moment map images in RA/DEC. It draws contours at 3,5,10,20,50 sigma. The purpose of this script was originally to make images to be turned into gifs, as such all images are roughly on the same scale and it requires a lot of manual inputs. A different version of this code is more general and more automated. Other version should be \"Contunuum_images\"."
   ]
  },
  {
   "cell_type": "code",
   "execution_count": 6,
   "metadata": {},
   "outputs": [],
   "source": [
    "#imports needed to make images\n",
    "\n",
    "%matplotlib inline\n",
    "import numpy as np\n",
    "from spectral_cube import SpectralCube\n",
    "from astropy import units as u\n",
    "from matplotlib import pyplot as plt\n",
    "import warnings \n",
    "from astropy.coordinates import SkyCoord\n",
    "from astroquery.splatalogue import Splatalogue\n",
    "import aplpy\n",
    "from astropy.wcs.utils import proj_plane_pixel_scales\n",
    "from astropy.wcs import WCS\n",
    "from astropy.io import fits\n",
    "from scipy.signal import find_peaks\n",
    "\n",
    "warnings.filterwarnings('ignore') # turns of annoying red warning boxes\n"
   ]
  },
  {
   "cell_type": "markdown",
   "metadata": {},
   "source": [
    "## Upload files to make images\n",
    "\n",
    "I made three gifs with these images: a gif of each ALMA band at its natural beam size and cell size, a gif of each of the band 7 data at its natural beam size and cell size, and a gif of band 7 observations smoothed and regridded to the same beam size and same cell size."
   ]
  },
  {
   "cell_type": "code",
   "execution_count": 7,
   "metadata": {},
   "outputs": [],
   "source": [
    "# for emission across all bands gif\n",
    "b7 ='/Users/hannahshoemaker/VICO_dust/HH212/HH212data/band7_hannah.fits'\n",
    "b9 ='/Users/hannahshoemaker/VICO_dust/HH212/HH212data/band9_hannah.fits'\n",
    "b3 ='/Users/hannahshoemaker/VICO_dust/HH212/HH212data/band3_hannah.fits'\n",
    "b6 ='/Users/hannahshoemaker/VICO_dust/HH212/HH212data/band6_hannah.fits'\n",
    "\n",
    "# for emission across all band 7 observations gif\n",
    "\n",
    "nat2012 = '/Users/hannahshoemaker/VICO_dust/HH212/HH212data/2012cont.fits'\n",
    "nat2015 = '/Users/hannahshoemaker/VICO_dust/HH212/HH212data/2015.fits'\n",
    "nat2016x259 = '/Users/hannahshoemaker/VICO_dust/HH212/HH212data/2016_x259.fits'\n",
    "nat2016x25b = '/Users/hannahshoemaker/VICO_dust/HH212/HH212data/2016_x25b.fits'\n",
    "nat2017 ='/Users/hannahshoemaker/VICO_dust/HH212/HH212data/2017.fits'\n",
    "\n",
    "# for emission across all band 7 observations, smooth & regrid gif\n",
    "\n",
    "smooth2012 = '/Users/hannahshoemaker/VICO_dust/HH212/HH212data/2012.smooth.fits'\n",
    "smooth2015 = '/Users/hannahshoemaker/VICO_dust/HH212/HH212data/2015.smooth.fits'\n",
    "smooth2016x259 = '/Users/hannahshoemaker/VICO_dust/HH212/HH212data/2016_x259_2.smooth.regrid.fits'\n",
    "smooth2016x25b =  '/Users/hannahshoemaker/VICO_dust/HH212/HH212data/2016_x25b.regrid.fits'\n",
    "smooth2017 = '/Users/hannahshoemaker/VICO_dust/HH212/HH212data/2017.smooth.regrid.fits'\n"
   ]
  },
  {
   "cell_type": "code",
   "execution_count": 9,
   "metadata": {},
   "outputs": [],
   "source": [
    "def Read_Cube(file_name):\n",
    "    '''\n",
    "    Read_Cube takes the file name, uses the package SpectralCube to read it, takes the axes in Hz and returns the cube.\n",
    "    It is necessary to convert the axes into Hz rather than velocity.\n",
    "    '''\n",
    "    cube = (SpectralCube.read(file_name))\n",
    "    cube.spectral_axis\n",
    "    cube2 = cube.with_spectral_unit(u.km/u.s , velocity_convention = 'radio', rest_value = cube.header['RESTFRQ'] *u.Hz)\n",
    "    cube2.spectral_axis\n",
    "    return cube2\n",
    "\n",
    "def Draw_Box(cube,boxsize):\n",
    "    '''\n",
    "    Draw_Box takes the cube returned from Read_Cube and cuts the cube down into a smaller \"cutcube\". Returns cutcube.\n",
    "    \n",
    "    \"boxsize\" is set specific to each file in the case, since they need to be at roughly the same resolution.\n",
    "    '''\n",
    "    boxsize= boxsize\n",
    "    drawbox_x = [int(cube.shape[2]/2-boxsize),int(cube.shape[2]/2+boxsize)]\n",
    "    drawbox_y = [int(cube.shape[1]/2-boxsize),int(cube.shape[1]/2+boxsize)]\n",
    "    cutcube = cube.subcube(xlo = drawbox_x[0],xhi = drawbox_x[1],ylo = drawbox_y[0],yhi = drawbox_y[1])\n",
    "    return cutcube\n",
    "\n",
    "\n",
    "def Contours(cube,cutcube,rms,boxsize,figname,additionaltxt):\n",
    "    '''\n",
    "    Contours takes the cube, cutcube, rms, boxside, figname and additional text and creates an image.\n",
    "    1. Takes the cutcube and uses it as the background of the image\n",
    "    2. Draws the beam in the bottom left corner of the image and sets axis labels\n",
    "    draws contours based on rms\n",
    "    3. Adds additional labels and text, depending onbox size\n",
    "    4. saves figure as a pdf based on parameter 'figname'\n",
    "    \n",
    "    '''\n",
    "    \n",
    "    fig = aplpy.FITSFigure(cutcube[0,:,:].hdu, dimensions=[0, 1])\n",
    "    fig.add_beam(major=cube.header['bmaj'],minor=cube.header['bmin'],angle=cube.header['bpa'],fill=True,color='magenta')\n",
    "    fig.axis_labels.show()\n",
    "    fig.axis_labels.set_xtext(\"Right Ascension (ICRS)\") \n",
    "    fig.axis_labels.set_ytext(\"Declination (ICRS)\") \n",
    "    plt.imshow(cutcube[0,:,:].hdu.data, cmap = 'inferno') \n",
    "         \n",
    "    cbar = plt.colorbar(shrink=0.9)\n",
    "    #cbar.ax.set_ylabel('Moment 0 Map Intensity')\n",
    "\n",
    "    levs_rms = np.arange(0,1000)*rms.value\n",
    "        \n",
    "    print('\\u03C3 is', rms.value,'Jy/beam')\n",
    "    \n",
    "    fig.show_contour(cutcube[0,:,:].hdu.data,levels = levs_rms[3:4],colors='white',linestyles= 'dashed')\n",
    "    fig.show_contour(cutcube[0,:,:].hdu.data,levels = levs_rms[5:6], colors='white')\n",
    "    fig.show_contour(cutcube[0,:,:].hdu.data,levels = levs_rms[10:11], colors='white')\n",
    "    fig.show_contour(cutcube[0,:,:].hdu.data,levels = levs_rms[20:21], colors='white')\n",
    "    fig.show_contour(cutcube[0,:,:].hdu.data,levels = levs_rms[50:51], colors='white')\n",
    "        \n",
    "    sigma_text = '\\u03C3 ='+ str(rms.value) + ' Jy/beam'\n",
    "    font = {'family': 'veranda','color':  'white','weight': 'bold','size': 16}\n",
    "        \n",
    "    if boxsize == 130:\n",
    "        plt.text(20, 230, sigma_text, fontdict=font)\n",
    "        plt.text(20,215, additionaltxt,fontdict=font)\n",
    "    elif boxsize ==50:\n",
    "        plt.text(10,87, sigma_text, fontdict=font)\n",
    "        plt.text(10,82, additionaltxt,fontdict=font)\n",
    "    elif boxsize ==30:\n",
    "        plt.text(5,53, sigma_text, fontdict=font)\n",
    "        plt.text(5,50, additionaltxt,fontdict=font)\n",
    "    elif boxsize ==80:\n",
    "        plt.text(10,145, sigma_text, fontdict=font)\n",
    "        plt.text(5,50, additionaltxt,fontdict=font)\n",
    "    else:\n",
    "        print(\"I DO NOT KNOW WHERE TO PUT YOUR ADDITIONAL TEXT\")\n",
    "            \n",
    "     \n",
    "    fig.savefig(figname+'.png')\n",
    "        \n",
    "\n",
    "def Main(file_name,rms,boxsize,figname,additionaltxt):\n",
    "    '''\n",
    "    Main takes file name, rms, box size, fig name and additional text and uses functions defined above to make image.\n",
    "    \n",
    "    It should be noted all the parameters taken by Main are incredibly observation-specific and are not general in any way.\n",
    "\n",
    "    '''\n",
    "    cube = Read_Cube(file_name)\n",
    "    cutcube = Draw_Box(cube,boxsize)\n",
    "    rms = rms *u.Jy\n",
    "    Contours(cube,cutcube,rms,boxsize,figname,additionaltxt)\n"
   ]
  },
  {
   "cell_type": "code",
   "execution_count": null,
   "metadata": {
    "scrolled": false
   },
   "outputs": [],
   "source": [
    "#Main(b7, 0.0000522*u.Jy,130,'b7','ALMA BAND 7')"
   ]
  },
  {
   "cell_type": "code",
   "execution_count": null,
   "metadata": {},
   "outputs": [],
   "source": [
    "#Main(b9,0.00266 *u.Jy,50,'b9','ALMA BAND 9')"
   ]
  },
  {
   "cell_type": "code",
   "execution_count": null,
   "metadata": {},
   "outputs": [],
   "source": [
    "#Main(b3,0.000008576 *u.Jy,130,'b3','ALMA BAND 3')"
   ]
  },
  {
   "cell_type": "code",
   "execution_count": null,
   "metadata": {},
   "outputs": [],
   "source": [
    "#Main(b6,0.00002658 *u.Jy,130,'b6','ALMA BAND 6')"
   ]
  },
  {
   "cell_type": "code",
   "execution_count": null,
   "metadata": {},
   "outputs": [],
   "source": [
    "#Main(nat2012,0.004 *u.Jy,30,'nat2012','')"
   ]
  },
  {
   "cell_type": "code",
   "execution_count": null,
   "metadata": {},
   "outputs": [],
   "source": [
    "#Main(nat2015,0.0001662 *u.Jy,130,'nat2015','')"
   ]
  },
  {
   "cell_type": "code",
   "execution_count": null,
   "metadata": {},
   "outputs": [],
   "source": [
    "#Main(nat2016x259,0.002232 *u.Jy,50,'nat2016x259','')"
   ]
  },
  {
   "cell_type": "code",
   "execution_count": null,
   "metadata": {},
   "outputs": [],
   "source": [
    "#Main(nat2016x25b,0.00367 *u.Jy,30,'nat2016x25b','')"
   ]
  },
  {
   "cell_type": "code",
   "execution_count": null,
   "metadata": {},
   "outputs": [],
   "source": [
    "#Main(nat2017,0.000064 *u.Jy,80,'nat2017','')"
   ]
  },
  {
   "cell_type": "code",
   "execution_count": null,
   "metadata": {},
   "outputs": [],
   "source": [
    "#Main(smooth2012,0.00272 *u.Jy,80,'smooth2012','')"
   ]
  },
  {
   "cell_type": "code",
   "execution_count": null,
   "metadata": {},
   "outputs": [],
   "source": [
    "#Main(smooth2015,0.00288 *u.Jy,80,'smooth2015','')"
   ]
  },
  {
   "cell_type": "code",
   "execution_count": null,
   "metadata": {},
   "outputs": [],
   "source": [
    "#Main(smooth2016x25b,0.0006 *u.Jy,80,'smooth2016x25b','')"
   ]
  },
  {
   "cell_type": "code",
   "execution_count": null,
   "metadata": {},
   "outputs": [],
   "source": [
    "#Main(smooth2017,0.000436 *u.Jy,80,'smooth2017','')"
   ]
  },
  {
   "cell_type": "code",
   "execution_count": null,
   "metadata": {},
   "outputs": [],
   "source": [
    "#Main(smooth2016x259, 0.002044* u.Jy ,80, 'smooth2016x259', '')\n"
   ]
  }
 ],
 "metadata": {
  "kernelspec": {
   "display_name": "Python 3",
   "language": "python",
   "name": "python3"
  },
  "language_info": {
   "codemirror_mode": {
    "name": "ipython",
    "version": 3
   },
   "file_extension": ".py",
   "mimetype": "text/x-python",
   "name": "python",
   "nbconvert_exporter": "python",
   "pygments_lexer": "ipython3",
   "version": "3.7.6"
  }
 },
 "nbformat": 4,
 "nbformat_minor": 4
}
